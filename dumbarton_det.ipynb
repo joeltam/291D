{
 "cells": [
  {
   "cell_type": "code",
   "execution_count": 19,
   "metadata": {},
   "outputs": [],
   "source": [
    "from cookies import *\n",
    "import requests\n",
    "import datetime\n",
    "import pytz"
   ]
  },
  {
   "cell_type": "code",
   "execution_count": 20,
   "metadata": {},
   "outputs": [],
   "source": [
    "def generate_params(day, detector):\n",
    "    gmt = pytz.timezone('GMT')\n",
    "    \n",
    "    start_datetime = gmt.localize(datetime.datetime.combine(day, datetime.time(0, 0)))\n",
    "\n",
    "    # end_datetime = gmt.localize(datetime.datetime.combine(day, datetime.time(23, 59))) # Comment out below two if you don't want weekly datasets\n",
    "\n",
    "    end_day = day + datetime.timedelta(days=89) \n",
    "    end_datetime = gmt.localize(datetime.datetime.combine(end_day, datetime.time(23, 59)))\n",
    "    \n",
    "    s_time_id = int(start_datetime.timestamp())\n",
    "    e_time_id = int(end_datetime.timestamp())\n",
    "\n",
    "    params = {\n",
    "        'report_form': '1',\n",
    "        'dnode': 'VDS',\n",
    "        'content': 'loops',\n",
    "        'export': 'xls',\n",
    "        'station_id': detector,\n",
    "        's_time_id': str(s_time_id),\n",
    "        's_time_id_f': start_datetime.strftime('%m/%d/%Y %H:%M'),\n",
    "        'e_time_id': str(e_time_id),\n",
    "        'e_time_id_f': end_datetime.strftime('%m/%d/%Y %H:%M'),\n",
    "        'tod': 'all',\n",
    "        'tod_from': '0',\n",
    "        'tod_to': '0',\n",
    "        'dow_0': 'on',\n",
    "        'dow_1': 'on',\n",
    "        'dow_2': 'on',\n",
    "        'dow_3': 'on',\n",
    "        'dow_4': 'on',\n",
    "        'dow_5': 'on',\n",
    "        'dow_6': 'on',\n",
    "        'holidays': 'on',\n",
    "        'q': 'flow',\n",
    "        'q2': 'del_60',\n",
    "        'gn': 'hour',\n",
    "        'agg': 'on',\n",
    "        'lane1': 'on',\n",
    "        'lane2': 'on',\n",
    "        'lane3': 'on',\n",
    "    }\n",
    "\n",
    "    return params"
   ]
  },
  {
   "cell_type": "code",
   "execution_count": 23,
   "metadata": {},
   "outputs": [
    {
     "name": "stdout",
     "output_type": "stream",
     "text": [
      "./dumbarton_det_files_update/oppo KGO Station 426452/2022-01-01_426452.xlsx created successfully.\n",
      "./dumbarton_det_files_update/oppo KGO Station 426452/2022-04-01_426452.xlsx created successfully.\n",
      "./dumbarton_det_files_update/oppo KGO Station 426452/2022-06-30_426452.xlsx created successfully.\n",
      "./dumbarton_det_files_update/oppo KGO Station 426452/2022-09-28_426452.xlsx created successfully.\n",
      "./dumbarton_det_files_update/oppo KGO Station 426452/2022-12-27_426452.xlsx created successfully.\n",
      "./dumbarton_det_files_update/oppo KGO Station 426452/2023-03-27_426452.xlsx created successfully.\n",
      "./dumbarton_det_files_update/oppo KGO Station 426452/2023-06-25_426452.xlsx created successfully.\n",
      "./dumbarton_det_files_update/oppo KGO Station 426452/2023-09-23_426452.xlsx created successfully.\n",
      "./dumbarton_det_files_update/oppo KGO Station 426452/2023-12-22_426452.xlsx created successfully.\n",
      "./dumbarton_det_files_update/oppo KGO Station 426452/2024-03-21_426452.xlsx created successfully.\n",
      "./dumbarton_det_files_update/oppo KGO Station 426452/2024-06-19_426452.xlsx created successfully.\n",
      "./dumbarton_det_files_update/oppo KGO Station 426452/2024-09-17_426452.xlsx created successfully.\n",
      "./dumbarton_det_files_update/oppo KGO Station 426452/2024-12-16_426452.xlsx created successfully.\n",
      "./dumbarton_det_files_update/oppo KGO Station 426452/2025-03-16_426452.xlsx created successfully.\n"
     ]
    }
   ],
   "source": [
    "start_date = datetime.date(2022, 1, 1)\n",
    "end_date = datetime.date(2025, 5, 6)\n",
    "delta = datetime.timedelta(days=90)\n",
    "\n",
    "current = start_date\n",
    "while current <= end_date:\n",
    "    detector = '426452'\n",
    "    params = generate_params(current, detector = detector)\n",
    "    response = requests.get('https://pems.dot.ca.gov/', params=params, cookies=cookies, headers=headers)\n",
    "\n",
    "    filename = f\"./dumbarton_det_files_update/oppo KGO Station {detector}/{str(current)}_{detector}.xlsx\"\n",
    "    with open(filename, 'wb') as file:\n",
    "        file.write(response.content)\n",
    "\n",
    "    print(f'{filename} created successfully.')\n",
    "    current += delta"
   ]
  },
  {
   "cell_type": "code",
   "execution_count": null,
   "metadata": {},
   "outputs": [],
   "source": []
  }
 ],
 "metadata": {
  "kernelspec": {
   "display_name": "venv3.9",
   "language": "python",
   "name": "python3"
  },
  "language_info": {
   "codemirror_mode": {
    "name": "ipython",
    "version": 3
   },
   "file_extension": ".py",
   "mimetype": "text/x-python",
   "name": "python",
   "nbconvert_exporter": "python",
   "pygments_lexer": "ipython3",
   "version": "3.9.20"
  }
 },
 "nbformat": 4,
 "nbformat_minor": 2
}
