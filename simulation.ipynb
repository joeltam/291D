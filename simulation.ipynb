{
 "cells": [
  {
   "cell_type": "code",
   "execution_count": 26,
   "id": "5a42b605",
   "metadata": {},
   "outputs": [],
   "source": [
    "import pandas as pd\n",
    "import datetime"
   ]
  },
  {
   "cell_type": "code",
   "execution_count": 103,
   "id": "1ea5cc2b",
   "metadata": {},
   "outputs": [
    {
     "name": "stdout",
     "output_type": "stream",
     "text": [
      "3898.1999999997756\n",
      "3164.6499999998114\n",
      "5718.300000000205\n",
      "4483.324999999747\n"
     ]
    }
   ],
   "source": [
    "EW = pd.read_csv(\"./dumbarton_det_files/2200' W of Toll Plaza 426470 combined.csv\")[['5 Minutes', 'Flow (Veh/5 Minutes)', 'Delay (V_t=60) (Veh-Hours)']]\n",
    "WE = pd.read_csv(\"./dumbarton_det_files/oppo 2200' W of Toll Plaza 426454 combined.csv\")[['5 Minutes', 'Flow (Veh/5 Minutes)', 'Delay (V_t=60) (Veh-Hours)']]\n",
    "\n",
    "# EW = pd.read_csv(\"./dumbarton_det_files/3300' W of toll Plaza 426469 combined.csv\")[['5 Minutes', 'Flow (Veh/5 Minutes)', 'Delay (V_t=60) (Veh-Hours)']]\n",
    "# WE = pd.read_csv(\"./dumbarton_det_files/oppo 3300' W of toll Plaza 426453 combined.csv\")[['5 Minutes', 'Flow (Veh/5 Minutes)', 'Delay (V_t=60) (Veh-Hours)']]\n",
    "\n",
    "# EW = pd.read_csv(\"./dumbarton_det_files/KGO Station 426468 combined.csv\")[['5 Minutes', 'Flow (Veh/5 Minutes)', 'Delay (V_t=60) (Veh-Hours)']]\n",
    "# WE = pd.read_csv(\"./dumbarton_det_files/oppo KGO Station 426452 combined.csv\")[['5 Minutes', 'Flow (Veh/5 Minutes)', 'Delay (V_t=60) (Veh-Hours)']]\n",
    "\n",
    "table = EW.merge(WE, on='5 Minutes', suffixes=('_EW', '_WE'))\n",
    "table['5 Minutes'] = pd.to_datetime(table['5 Minutes'])\n",
    "table['Estimated Delay_EW'] = table['Delay (V_t=60) (Veh-Hours)_EW']\n",
    "table['Estimated Delay_WE'] = table['Delay (V_t=60) (Veh-Hours)_WE']\n",
    "\n",
    "table = table[table['5 Minutes'].dt.date < datetime.date(2025, 3, 1)]\n",
    "\n",
    "weekday_mask = table['5 Minutes'].dt.weekday < 5\n",
    "\n",
    "morning_mask = (\n",
    "    (table['5 Minutes'].dt.time >= datetime.time(6, 0)) &\n",
    "    (table['5 Minutes'].dt.time <= datetime.time(10, 0)) &\n",
    "    weekday_mask\n",
    ")\n",
    "afternoon_mask = (\n",
    "    (table['5 Minutes'].dt.time >= datetime.time(16, 0)) &\n",
    "    (table['5 Minutes'].dt.time <= datetime.time(20, 0)) &\n",
    "    weekday_mask\n",
    ")\n",
    "\n",
    "table.loc[morning_mask, 'Estimated Delay_EW'] *= 0.75\n",
    "table.loc[morning_mask, 'Estimated Delay_WE'] *= 1.50\n",
    "\n",
    "table.loc[afternoon_mask, 'Estimated Delay_WE'] *= 0.75\n",
    "table.loc[afternoon_mask, 'Estimated Delay_EW'] *= 1.50\n",
    "\n",
    "print(sum(table['Delay (V_t=60) (Veh-Hours)_EW']))\n",
    "print(sum(table['Estimated Delay_EW']))\n",
    "\n",
    "print(sum(table['Delay (V_t=60) (Veh-Hours)_WE']))\n",
    "print(sum(table['Estimated Delay_WE']))"
   ]
  },
  {
   "cell_type": "code",
   "execution_count": 92,
   "id": "245b274c",
   "metadata": {},
   "outputs": [
    {
     "name": "stdout",
     "output_type": "stream",
     "text": [
      "835.5\n",
      "1675.0000000000002\n"
     ]
    }
   ],
   "source": [
    "monday_mask = table['5 Minutes'].dt.weekday == 3\n",
    "print(table.loc[monday_mask, 'Delay (V_t=60) (Veh-Hours)_EW'].sum())\n",
    "print(table.loc[monday_mask, 'Delay (V_t=60) (Veh-Hours)_WE'].sum())"
   ]
  },
  {
   "cell_type": "code",
   "execution_count": 79,
   "id": "0f73606a",
   "metadata": {},
   "outputs": [
    {
     "data": {
      "text/plain": [
       "425"
      ]
     },
     "execution_count": 79,
     "metadata": {},
     "output_type": "execute_result"
    }
   ],
   "source": [
    "table['5 Minutes'].dt.date.nunique()"
   ]
  }
 ],
 "metadata": {
  "kernelspec": {
   "display_name": "venv3.9",
   "language": "python",
   "name": "python3"
  },
  "language_info": {
   "codemirror_mode": {
    "name": "ipython",
    "version": 3
   },
   "file_extension": ".py",
   "mimetype": "text/x-python",
   "name": "python",
   "nbconvert_exporter": "python",
   "pygments_lexer": "ipython3",
   "version": "3.9.20"
  }
 },
 "nbformat": 4,
 "nbformat_minor": 5
}
